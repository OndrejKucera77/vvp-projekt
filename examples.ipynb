{
 "cells": [
  {
   "cell_type": "markdown",
   "id": "8fb31569",
   "metadata": {},
   "source": [
    "# Funkce knihovny sortflow"
   ]
  },
  {
   "cell_type": "markdown",
   "id": "0a0e55dd",
   "metadata": {},
   "source": [
    "Nejprve vložíme všechno, co budeme potřebovat. Zároveň nastavíme cestu k ffmpeg, které musí být nainstalované."
   ]
  },
  {
   "cell_type": "code",
   "execution_count": null,
   "id": "161c959a",
   "metadata": {},
   "outputs": [],
   "source": [
    "from sortflow.sort_algs import *\n",
    "import matplotlib.pyplot as plt\n",
    "from IPython.display import HTML, Video\n",
    "\n",
    "# tady je uložená cesta k ffmpeg, kterou si musíte asi změnit\n",
    "# na Linuxu něco jako /usr/bin/ffmpeg\n",
    "plt.rcParams[\"animation.ffmpeg_path\"] = \"C:\\\\ProgramData\\\\chocolatey\\\\lib\\\\ffmpeg\\\\tools\\\\ffmpeg\\\\bin\\\\ffmpeg.exe\""
   ]
  },
  {
   "cell_type": "code",
   "execution_count": null,
   "id": "c40acc05",
   "metadata": {},
   "outputs": [],
   "source": [
    "# pro zobrazení v Jupyteru je nutná verze matplotlib alespoň 2.1.0\n",
    "# %pip install matplotlib --upgrade  "
   ]
  },
  {
   "cell_type": "markdown",
   "id": "e388d25c",
   "metadata": {},
   "source": [
    "Knihovna se používá následovně: vytvoříme instanci třídy třídícího algoritmu s nějakými daty a poté zavoláme funkci animate, která vrátí instanci knihovny Animation z matplotlib. (Konkrétně ArtistAnimation.) Insanci si musíme udržet v paměti, jinak by animace byla vymazána Pythonovým garbage collectorem."
   ]
  },
  {
   "cell_type": "code",
   "execution_count": null,
   "id": "8f26a7fc",
   "metadata": {},
   "outputs": [],
   "source": [
    "# vytvořím data\n",
    "data = [4, 2, 1, 5, 3]\n",
    "\n",
    "# vytvořím instaci třídící třídy\n",
    "bubble = BubbleSort(data)\n",
    "\n",
    "# zavolám animaci\n",
    "animace = bubble.animate()\n",
    "\n",
    "# v Jupyter notebooku se animace zobrazí takto\n",
    "# pokud nevyužívám Jupyter, animaci zobrazím pomocí plt.show()\n",
    "plt.close()\n",
    "HTML(animace.to_html5_video())"
   ]
  },
  {
   "cell_type": "markdown",
   "id": "2fd4274a",
   "metadata": {},
   "source": [
    "Data se dají nastavit i po vytvoření instance. Stejně tak se dá nastavit, jestli budou data na konci setříděná vzestupně, nebo sestupně."
   ]
  },
  {
   "cell_type": "code",
   "execution_count": null,
   "id": "d9aa443f",
   "metadata": {},
   "outputs": [],
   "source": [
    "bubble.set_data([1.2, 5.5, 6.2, 1.3, 4.2, 7.2, 8.9, 2.5])\n",
    "bubble.set_order(\"descending\")"
   ]
  },
  {
   "cell_type": "markdown",
   "id": "5d0722ab",
   "metadata": {},
   "source": [
    "Animaci se dá nastavit rychlost, opakování nebo velikost figury."
   ]
  },
  {
   "cell_type": "code",
   "execution_count": null,
   "id": "e001a1e9",
   "metadata": {},
   "outputs": [],
   "source": [
    "animace = bubble.animate(0.3, False, (5, 4))\n",
    "plt.close()\n",
    "HTML(animace.to_html5_video())"
   ]
  },
  {
   "cell_type": "markdown",
   "id": "6de09586",
   "metadata": {},
   "source": [
    "Data na třídění můžeme načíst ze souboru tak, že jako data pošleme třídě místo listu čísel název souboru. Dále se dá uložit do souoboru metodou save."
   ]
  },
  {
   "cell_type": "code",
   "execution_count": null,
   "id": "0b0b2d2c",
   "metadata": {},
   "outputs": [],
   "source": [
    "insert = InsertSort(\"test_data/example.txt\")\n",
    "anim = insert.animate()\n",
    "anim.save(\"insert_sort.mp4\", writer=\"ffmpeg\")\n",
    "plt.close()"
   ]
  },
  {
   "cell_type": "code",
   "execution_count": null,
   "id": "4c45c39e",
   "metadata": {},
   "outputs": [],
   "source": [
    "Video(\"insert_sort.mp4\")"
   ]
  },
  {
   "cell_type": "markdown",
   "id": "105494fb",
   "metadata": {},
   "source": [
    "Animacím se dá nastavovat i různý styl. Zde je názorná ukázka, co všechno se dá měnit."
   ]
  },
  {
   "cell_type": "code",
   "execution_count": null,
   "id": "dc454a98",
   "metadata": {},
   "outputs": [],
   "source": [
    "quick = QuickSort(\"test_data/example2.txt\")\n",
    "\n",
    "quick.set_style({\n",
    "    \"background_color\": \"#1A1A1A\",\n",
    "    \"bounds_color\": \"#2B2B2B\",\n",
    "    \"text_color\": \"#F2F2F2\",\n",
    "    \"line_color\": \"#F2F2F2\",\n",
    "    \"line_width\": 2,\n",
    "    \"line_style\": \"solid\",\n",
    "    \"face_colors\": {\n",
    "        \"unsorted\": \"#4C244D\",\n",
    "        \"compare\": \"#00434D\",\n",
    "        \"sorted\": \"#4D4100\"\n",
    "    },\n",
    "    \"edge_colors\": {\n",
    "        \"unsorted\": \"#FF77FF\",\n",
    "        \"compare\": \"#00E0FF\",\n",
    "        \"sorted\": \"#FFD700\"\n",
    "    },\n",
    "    \"edge_width\": 1.8,\n",
    "    \"pivot_color\": \"white\",\n",
    "    \"pivot_width\": 1.6,\n",
    "    \"pivot_style\": \"-.\"\n",
    "})\n",
    "\n",
    "anim = quick.animate(0.2)\n",
    "plt.close()\n",
    "HTML(anim.to_html5_video())"
   ]
  },
  {
   "cell_type": "markdown",
   "id": "b98ddf67",
   "metadata": {},
   "source": [
    "Pokud se předchozí animace Quicksortu nezobrazí správně, můžete to vyřešit tím, že kód překopírujete do samostatného Pythonového souboru a spustíte to z něj. Děje se to pravděpodobně kvůli různého backendu, avšak nepovedlo se mi to vyřešit."
   ]
  },
  {
   "cell_type": "markdown",
   "id": "7b44cd74",
   "metadata": {},
   "source": [
    "## Přehlídka algoritmů"
   ]
  },
  {
   "cell_type": "code",
   "execution_count": null,
   "id": "c56ecd9f",
   "metadata": {},
   "outputs": [],
   "source": [
    "import random\n",
    "\n",
    "data = [random.random() for _ in range(25)]\n",
    "speed = 0.12\n",
    "repeat = False\n",
    "\n",
    "select = SelectSort(data)\n",
    "bubble = BubbleSort(data)\n",
    "insert = InsertSort(data)\n",
    "quick = QuickSort(data)\n",
    "merge = MergeSort(data)"
   ]
  },
  {
   "cell_type": "code",
   "execution_count": null,
   "id": "c6abbbd8",
   "metadata": {},
   "outputs": [],
   "source": [
    "anim = select.animate(speed, repeat)\n",
    "anim.save(\"selectsort.mp4\", writer=\"ffmpeg\")\n",
    "plt.close()"
   ]
  },
  {
   "cell_type": "code",
   "execution_count": null,
   "id": "db1d1b95",
   "metadata": {},
   "outputs": [],
   "source": [
    "anim = bubble.animate(speed, repeat)\n",
    "anim.save(\"bubblesort.mp4\", writer=\"ffmpeg\")\n",
    "plt.close()"
   ]
  },
  {
   "cell_type": "code",
   "execution_count": null,
   "id": "28cedf2b",
   "metadata": {},
   "outputs": [],
   "source": [
    "anim = insert.animate(speed, repeat)\n",
    "anim.save(\"insertsort.mp4\", writer=\"ffmpeg\")\n",
    "plt.close()"
   ]
  },
  {
   "cell_type": "code",
   "execution_count": null,
   "id": "9d7af892",
   "metadata": {},
   "outputs": [],
   "source": [
    "anim = quick.animate(speed, repeat)\n",
    "anim.save(\"quicksort.mp4\", writer=\"ffmpeg\")\n",
    "plt.close()"
   ]
  },
  {
   "cell_type": "code",
   "execution_count": null,
   "id": "2bba08a5",
   "metadata": {},
   "outputs": [],
   "source": [
    "anim = merge.animate(speed, repeat)\n",
    "anim.save(\"mergesort.mp4\", writer=\"ffmpeg\")\n",
    "plt.close()"
   ]
  },
  {
   "cell_type": "code",
   "execution_count": null,
   "id": "c3b00fb2",
   "metadata": {},
   "outputs": [],
   "source": [
    "Video(\"selectsort.mp4\")"
   ]
  },
  {
   "cell_type": "code",
   "execution_count": null,
   "id": "7938cd46",
   "metadata": {},
   "outputs": [],
   "source": [
    "Video(\"bubblesort.mp4\")"
   ]
  },
  {
   "cell_type": "code",
   "execution_count": null,
   "id": "dbbaf7e6",
   "metadata": {},
   "outputs": [],
   "source": [
    "Video(\"insertsort.mp4\")"
   ]
  },
  {
   "cell_type": "code",
   "execution_count": null,
   "id": "29bec541",
   "metadata": {},
   "outputs": [],
   "source": [
    "Video(\"quicksort.mp4\")"
   ]
  },
  {
   "cell_type": "code",
   "execution_count": null,
   "id": "0adc6863",
   "metadata": {},
   "outputs": [],
   "source": [
    "Video(\"mergesort.mp4\")"
   ]
  }
 ],
 "metadata": {
  "kernelspec": {
   "display_name": "Python 3",
   "language": "python",
   "name": "python3"
  },
  "language_info": {
   "codemirror_mode": {
    "name": "ipython",
    "version": 3
   },
   "file_extension": ".py",
   "mimetype": "text/x-python",
   "name": "python",
   "nbconvert_exporter": "python",
   "pygments_lexer": "ipython3",
   "version": "3.13.3"
  }
 },
 "nbformat": 4,
 "nbformat_minor": 5
}
